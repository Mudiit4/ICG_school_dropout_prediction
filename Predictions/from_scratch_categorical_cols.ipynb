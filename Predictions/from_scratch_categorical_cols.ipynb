{
 "cells": [
  {
   "cell_type": "code",
   "execution_count": 1,
   "metadata": {},
   "outputs": [],
   "source": [
    "#surpress warnings\n",
    "import warnings\n",
    "warnings.filterwarnings(\"ignore\")\n"
   ]
  },
  {
   "cell_type": "code",
   "execution_count": 2,
   "metadata": {},
   "outputs": [],
   "source": [
    "import pandas as pd\n",
    "import seaborn as sns\n",
    "import matplotlib.pyplot as plt\n",
    "import numpy as np\n",
    "from sklearn.preprocessing import StandardScaler\n",
    "from sklearn.compose import ColumnTransformer\n",
    "from sklearn.pipeline import Pipeline\n",
    "from sklearn.impute import SimpleImputer\n",
    "from sklearn.preprocessing import OneHotEncoder\n",
    "from sklearn.preprocessing import OrdinalEncoder\n",
    "from scipy import stats\n",
    "from sklearn.model_selection import train_test_split\n",
    "from sklearn.preprocessing import PowerTransformer\n",
    "from sklearn.preprocessing import FunctionTransformer\n",
    "from sklearn.metrics import classification_report\n",
    "from sklearn.metrics import accuracy_score\n",
    "from sklearn.linear_model import LogisticRegression"
   ]
  },
  {
   "cell_type": "code",
   "execution_count": 3,
   "metadata": {},
   "outputs": [],
   "source": [
    "pd.set_option('display.max_columns', 160)\n",
    "df = pd.read_excel('IOF_2014-15.xls',sheet_name='IOF_2014-15')\n",
    "df = df[(df['age'] >= 6) & (df['age'] <= 18)]"
   ]
  },
  {
   "cell_type": "code",
   "execution_count": 4,
   "metadata": {},
   "outputs": [],
   "source": [
    "cols_req = ['district', 'food_pc_nom', 'nf_pc_nom', 'mean_cal', 'relhead', 'gender', 'age', 'slept_away_3', 'marital_status', 'read_write', 'frequented_school', 'education_level_attended', 'grade_or_year', 'studies_now', 'education_level_attending', 'gradeoryear_attending', 'school_problem_a', 'school_problem_b', 'school_problem_c', 'school_problem_d', 'school_problem_e', 'school_problem_f', 'year_started_school', 'notstudying_reason', 'frequented_school_12', 'deficiency_a', 'deficiency_b', 'deficiency_c', 'deficiency_d', 'deficiency_e', 'deficiency_f', 'deficiency_h', 'water_source', 'time_facitlity_d', 'sanitation_type', 'roof_type', 'wall_type', 'occupation', 'worker_type', 'sector' ]\n",
    "new_df = df[cols_req]"
   ]
  },
  {
   "cell_type": "code",
   "execution_count": 5,
   "metadata": {},
   "outputs": [],
   "source": [
    "cat_df = df[cols_req]"
   ]
  },
  {
   "cell_type": "code",
   "execution_count": 6,
   "metadata": {},
   "outputs": [
    {
     "data": {
      "text/plain": [
       "(4733, 40)"
      ]
     },
     "execution_count": 6,
     "metadata": {},
     "output_type": "execute_result"
    }
   ],
   "source": [
    "#drop rows in new_df where slep_away_3 is null, ONLY LOST 1 ROW\n",
    "\n",
    "new_df.dropna(subset=['slept_away_3'], inplace=True)\n",
    "cat_df.dropna(subset=['slept_away_3'], inplace=True)\n",
    "new_df.shape"
   ]
  },
  {
   "cell_type": "code",
   "execution_count": 7,
   "metadata": {},
   "outputs": [],
   "source": [
    "#split in train and test\n",
    "\n",
    "X_train, X_test, y_train, y_test = train_test_split(new_df.drop('studies_now', axis=1), new_df['studies_now'], test_size=0.2, random_state=0)\n"
   ]
  },
  {
   "cell_type": "code",
   "execution_count": 8,
   "metadata": {},
   "outputs": [],
   "source": [
    "from sklearn.preprocessing import LabelEncoder\n",
    "le = LabelEncoder()\n",
    "le.fit(y_train)\n",
    "y_train = le.transform(y_train)\n",
    "y_train = pd.Series(y_train)\n",
    "\n",
    "y_test = le.transform(y_test)\n",
    "y_test = pd.Series(y_test)\n",
    "cat_df['studies_now'] = le.transform(cat_df['studies_now'])"
   ]
  },
  {
   "cell_type": "code",
   "execution_count": 9,
   "metadata": {},
   "outputs": [],
   "source": [
    "#drop notstudying_reason and frequented_school_12 from X_train \n",
    "X_train.drop(['notstudying_reason', 'frequented_school_12','mean_cal'], axis=1, inplace=True)\n",
    "cat_df.drop(['notstudying_reason', 'frequented_school_12','mean_cal'], axis=1, inplace=True)\n",
    "X_train['food_pc_nom'] = X_train['food_pc_nom'] + 0.0001\n",
    "cat_df['food_pc_nom'] = cat_df['food_pc_nom'] + 0.0001\n",
    "X_test.drop(['notstudying_reason', 'frequented_school_12','mean_cal'], axis=1, inplace=True)\n",
    "X_test['food_pc_nom'] = X_test['food_pc_nom'] + 0.0001"
   ]
  },
  {
   "cell_type": "code",
   "execution_count": 10,
   "metadata": {},
   "outputs": [],
   "source": [
    "numerical_cols = X_train.select_dtypes(include=np.number).columns.tolist()\n",
    "categorical_cols = X_train.select_dtypes(exclude=np.number).columns.tolist()"
   ]
  },
  {
   "cell_type": "code",
   "execution_count": 11,
   "metadata": {},
   "outputs": [
    {
     "data": {
      "text/plain": [
       "district                      0.000000\n",
       "relhead                       0.000000\n",
       "gender                        0.000000\n",
       "slept_away_3                  0.000000\n",
       "marital_status               52.430005\n",
       "read_write                    0.026413\n",
       "frequented_school             0.000000\n",
       "education_level_attended      0.000000\n",
       "grade_or_year                17.987322\n",
       "education_level_attending    29.978870\n",
       "school_problem_a             42.762810\n",
       "school_problem_b             42.789223\n",
       "school_problem_c             42.762810\n",
       "school_problem_d             42.762810\n",
       "school_problem_e             42.762810\n",
       "school_problem_f             42.762810\n",
       "deficiency_a                  0.000000\n",
       "deficiency_b                  0.000000\n",
       "deficiency_c                  0.000000\n",
       "deficiency_d                  0.000000\n",
       "deficiency_e                  0.000000\n",
       "deficiency_f                  0.000000\n",
       "deficiency_h                  0.000000\n",
       "water_source                  0.000000\n",
       "sanitation_type              27.179081\n",
       "roof_type                     0.000000\n",
       "wall_type                     0.000000\n",
       "occupation                   78.578975\n",
       "worker_type                  78.631801\n",
       "sector                       78.658214\n",
       "dtype: float64"
      ]
     },
     "execution_count": 11,
     "metadata": {},
     "output_type": "execute_result"
    }
   ],
   "source": [
    "X_train[categorical_cols].isnull().mean()*100"
   ]
  },
  {
   "cell_type": "code",
   "execution_count": 12,
   "metadata": {},
   "outputs": [],
   "source": [
    "# for i in categorical_cols:\n",
    "#     print(i)\n",
    "#     print(X_train[i].unique())\n",
    "#     print(\"----------------------\")"
   ]
  },
  {
   "cell_type": "code",
   "execution_count": 13,
   "metadata": {},
   "outputs": [],
   "source": [
    "#dropping occupation, worker_type and sector\n",
    "X_train.drop(['occupation', 'worker_type', 'sector','marital_status'], axis=1, inplace=True)\n",
    "X_test.drop(['occupation', 'worker_type', 'sector','marital_status'], axis=1, inplace=True)\n",
    "\n",
    "cat_df.drop(['occupation', 'worker_type', 'sector','marital_status'], axis=1, inplace=True)"
   ]
  },
  {
   "cell_type": "code",
   "execution_count": 14,
   "metadata": {},
   "outputs": [],
   "source": [
    "# X_train['year_started_school'].dtype"
   ]
  },
  {
   "cell_type": "code",
   "execution_count": 15,
   "metadata": {},
   "outputs": [],
   "source": [
    "\n",
    "# gender- nominal\n",
    "# district - nominal\n",
    "# relhead - ordinal/nominal\n",
    "# slept away - nominal\n",
    "# read_write - ordinal\n",
    "# frequented school- ordinal\n",
    "# education level attended - ordinal\n",
    "# grade or year - ordinal\n",
    "# educational level attending - ordinal\n",
    "# school problems - ordinal (no value high)\n",
    "# deficiencies - ordinal\n",
    "# water_source- ordinal\n",
    "# sanitation type - ordinal\n",
    "# roof type - ordinal\n",
    "# wall type - ordinal\n",
    "# occupation - ordinal\n",
    "# worker type - ordinal\n",
    "# sector- nominal/ordinal\n",
    "# marital status - nominal\n",
    "# nominal columns will be one hot encoded\n",
    "ohe_cols = ['gender', 'district', 'relhead', 'slept_away_3' ]\n",
    "# ordinal columns will be numerically encoded\n",
    "nume_cols = ['read_write', 'frequented_school', 'education_level_attended', 'grade_or_year', 'education_level_attending', 'school_problem_a', 'school_problem_b', 'school_problem_c', 'school_problem_d', 'school_problem_e', 'school_problem_f', 'deficiency_a', 'deficiency_b', 'deficiency_c', 'deficiency_d', 'deficiency_e', 'deficiency_f', 'deficiency_h', 'water_source', 'sanitation_type', 'roof_type', 'wall_type']\n"
   ]
  },
  {
   "cell_type": "code",
   "execution_count": 16,
   "metadata": {},
   "outputs": [],
   "source": [
    "# X_train[nume_cols].isnull().mean()*100"
   ]
  },
  {
   "cell_type": "code",
   "execution_count": 17,
   "metadata": {},
   "outputs": [],
   "source": [
    "# # impute school problems, year started school, sanitation type, grade or year, read_write and education level attending with knn imputer\n",
    "# from sklearn.impute import KNNImputer\n",
    "# imputer = KNNImputer(n_neighbors=2,add_indicator=True)\n",
    "# knn_impute_cols = ['school_problem_a', 'school_problem_b', 'school_problem_c', 'school_problem_d', 'school_problem_e', 'school_problem_f', 'sanitation_type', 'grade_or_year', 'read_write','education_level_attending']\n"
   ]
  },
  {
   "cell_type": "code",
   "execution_count": 18,
   "metadata": {},
   "outputs": [],
   "source": [
    "# # print columns that are in knn_impute_cols and also in nume_cols\n",
    "# a = set(knn_impute_cols).intersection(nume_cols)"
   ]
  },
  {
   "cell_type": "code",
   "execution_count": 19,
   "metadata": {},
   "outputs": [],
   "source": [
    "# for i in a:\n",
    "#     print(i, X_train[i].isnull().mean()*100)"
   ]
  },
  {
   "cell_type": "code",
   "execution_count": 20,
   "metadata": {},
   "outputs": [],
   "source": [
    "X_train_try = X_train.copy()\n",
    "X_test_try = X_test.copy()\n",
    "cat_df_try = cat_df.copy()"
   ]
  },
  {
   "cell_type": "code",
   "execution_count": 21,
   "metadata": {},
   "outputs": [],
   "source": [
    "# for i in nume_cols:\n",
    "#     print(i)"
   ]
  },
  {
   "cell_type": "code",
   "execution_count": 22,
   "metadata": {},
   "outputs": [],
   "source": [
    "# #numerically encoding missing value columns in nume_cols\n",
    "\"\"\"\n",
    "education_level_attending\n",
    "[nan 'Lower primary' 'Upper primary' 'Lower secondary' 'Upper secondary'\n",
    " 'Technical (medium)' 'Adult education' 'Technical (basic)'\n",
    " 'University education' 'Technical (elementar)' 'Teacher training']\n",
    "\"\"\"\n",
    "\n",
    "\"\"\"\n",
    "education_level_attended\n",
    "['No education' 'Lower primary' 'Upper primary' 'Upper secondary'\n",
    " 'Lower secondary' 'Technical (medium)' 'Does not know' 'Adult education'\n",
    " 'Technical (basic)' 'University education' 'Technical (elementar)'\n",
    " 'Teacher training']\n",
    "\"\"\"\n",
    "\n",
    "# from sklearn.preprocessing import OrdinalEncoder\n",
    "oe_read_write = OrdinalEncoder(categories=[[\"Don't know\",'No','Yes']],handle_unknown='use_encoded_value',unknown_value=-1)\n",
    "\n",
    "oe_school_problems = OrdinalEncoder(categories=[['No','Yes']],handle_unknown='use_encoded_value',unknown_value=-1)\n",
    "\n",
    "oe_education_level_attended = OrdinalEncoder(categories=[[\n",
    "    'No education',\n",
    "    'Does not know',\n",
    "    'Adult education',\n",
    "    'Technical (elementar)',\n",
    "    'Lower primary',\n",
    "    'Upper primary',\n",
    "    'Lower secondary',\n",
    "    'Upper secondary',\n",
    "    'Technical (medium)',\n",
    "    'Teacher training',\n",
    "    'University education'\n",
    "]],handle_unknown='use_encoded_value',unknown_value=-1)\n",
    "\n",
    "oe_sanitation_type = OrdinalEncoder(categories=[['Unimproved latrine','Improved traditional latrine','Improved latrine','Toilet with septic tank']],handle_unknown='use_encoded_value',unknown_value=-1)\n",
    "\n",
    "oe_grade_or_year = OrdinalEncoder(categories=[[\"Don't know\",'0','1','2','3','4','5','6','7','8','9','10','11','12']],handle_unknown='use_encoded_value',unknown_value=-1)\n",
    "\n",
    "oe_deficiencies = OrdinalEncoder(categories=[['No','Yes']],handle_unknown='use_encoded_value',unknown_value=-1)\n",
    "\n",
    "oe_water_source = OrdinalEncoder(categories=[[\n",
    "  # Tier 1: Unsafe for drinking without treatment\n",
    "  \"Unprotected well\",\n",
    "  \"River, lake, lagoon\",\n",
    "  \"Water from unprotected springs\",\n",
    "\n",
    "  # Tier 2: Potentially unsafe but improvable with basic treatment\n",
    "  \"Well with manual pump\",\n",
    "  \"Water fountain\",\n",
    "  \"Rainwater in Africa\",  # Note: Rainwater quality can vary greatly depending on location and collection methods. Consider treating before drinking.\n",
    "\n",
    "  # Tier 3: Generally safe but may require basic filtration\n",
    "  \"Piped in the neighbor's dwelling\",\n",
    "  \"Piped in the yard\",\n",
    "\n",
    "  # Tier 4: Safe for drinking\n",
    "  \"Piped inside the dwelling\",\n",
    "  \"Water cistern (or mobile tank/truck)\",\n",
    "  \"Bottled water\",\n",
    "  \"Water from protected springs\",  # High-quality protected springs can be considered safe.\n",
    "  \"Borehole\",\n",
    "\n",
    "]\n",
    "],handle_unknown='use_encoded_value',unknown_value=-1)\n",
    "\n",
    "oe_roof_type = OrdinalEncoder(categories=[['Other','Grass/stem/wood',  'Zinc sheets', 'Cement fibler sheets', 'Concrete', 'Roof tile']\n",
    "],handle_unknown='use_encoded_value',unknown_value=-1)\n",
    "\n",
    "oe_wall_type = OrdinalEncoder(categories=[['Other' ,'Sticks (paus maticados)','Bamboo/reed/palms', 'Adobe blocks', 'Brick blocks (blocos de tijolo)', 'Wood/zinc', 'Cement blocks']\n",
    "],handle_unknown='use_encoded_value',unknown_value=-1)\n",
    "\n",
    "oe_frequented_school = OrdinalEncoder(categories=[['No','Yes']],handle_unknown='use_encoded_value',unknown_value=-1)\n",
    "\n",
    "oe_education_level_attending = OrdinalEncoder(categories=[[\n",
    "    'Technical (elementar)',\n",
    "    'Technical (basic)',\n",
    "    'Lower primary',\n",
    "    'Upper primary',\n",
    "    'Lower secondary',\n",
    "    'Upper secondary',\n",
    "    'Technical (medium)',\n",
    "    'Teacher training',\n",
    "    'University education',\n",
    "    'Adult education'\n",
    "]],handle_unknown='use_encoded_value',unknown_value=-1)"
   ]
  },
  {
   "cell_type": "code",
   "execution_count": 23,
   "metadata": {},
   "outputs": [],
   "source": [
    "X_train['read_write'] = oe_read_write.fit_transform(X_train['read_write'].values.reshape(-1,1))\n",
    "X_test['read_write'] = oe_read_write.transform(X_test['read_write'].values.reshape(-1,1))\n",
    "cat_df['read_write'] = oe_read_write.transform(cat_df['read_write'].values.reshape(-1,1))"
   ]
  },
  {
   "cell_type": "code",
   "execution_count": 24,
   "metadata": {},
   "outputs": [],
   "source": [
    "school_problem_cols = ['school_problem_a', 'school_problem_b', 'school_problem_c', 'school_problem_d', 'school_problem_e', 'school_problem_f']\n",
    "for i in school_problem_cols:\n",
    "    X_train[i] = oe_school_problems.fit_transform(X_train[i].values.reshape(-1,1))\n",
    "    X_test[i] = oe_school_problems.transform(X_test[i].values.reshape(-1,1))\n",
    "    cat_df[i] = oe_school_problems.transform(cat_df[i].values.reshape(-1,1))"
   ]
  },
  {
   "cell_type": "code",
   "execution_count": 25,
   "metadata": {},
   "outputs": [],
   "source": [
    "X_train['education_level_attending'] = oe_education_level_attending.fit_transform(X_train['education_level_attending'].values.reshape(-1,1))  \n",
    "X_test['education_level_attending'] = oe_education_level_attending.transform(X_test['education_level_attending'].values.reshape(-1,1)) \n",
    "cat_df['education_level_attending'] = oe_education_level_attending.transform(cat_df['education_level_attending'].values.reshape(-1,1)) "
   ]
  },
  {
   "cell_type": "code",
   "execution_count": 26,
   "metadata": {},
   "outputs": [],
   "source": [
    "X_train['sanitation_type'] = oe_sanitation_type.fit_transform(X_train['sanitation_type'].values.reshape(-1,1))\n",
    "X_test['sanitation_type'] = oe_sanitation_type.transform(X_test['sanitation_type'].values.reshape(-1,1))\n",
    "cat_df['sanitation_type'] = oe_sanitation_type.transform(cat_df['sanitation_type'].values.reshape(-1,1))"
   ]
  },
  {
   "cell_type": "code",
   "execution_count": 27,
   "metadata": {},
   "outputs": [],
   "source": [
    "X_train['grade_or_year'] = oe_grade_or_year.fit_transform(X_train['grade_or_year'].values.reshape(-1,1))\n",
    "X_test['grade_or_year'] = oe_grade_or_year.transform(X_test['grade_or_year'].values.reshape(-1,1))\n",
    "cat_df['grade_or_year'] = oe_grade_or_year.transform(cat_df['grade_or_year'].values.reshape(-1,1))"
   ]
  },
  {
   "cell_type": "code",
   "execution_count": 28,
   "metadata": {},
   "outputs": [],
   "source": [
    "X_train['education_level_attended'] = oe_education_level_attended.fit_transform(X_train['education_level_attended'].values.reshape(-1,1))\n",
    "X_test['education_level_attended'] = oe_education_level_attended.transform(X_test['education_level_attended'].values.reshape(-1,1))\n",
    "cat_df['education_level_attended'] = oe_education_level_attended.transform(cat_df['education_level_attended'].values.reshape(-1,1))"
   ]
  },
  {
   "cell_type": "code",
   "execution_count": 29,
   "metadata": {},
   "outputs": [],
   "source": [
    "X_train['wall_type'] = oe_wall_type.fit_transform(X_train['wall_type'].values.reshape(-1,1))\n",
    "X_test['wall_type'] = oe_wall_type.transform(X_test['wall_type'].values.reshape(-1,1))\n",
    "cat_df['wall_type'] = oe_wall_type.transform(cat_df['wall_type'].values.reshape(-1,1))\n",
    "\n",
    "X_train['roof_type'] = oe_roof_type.fit_transform(X_train['roof_type'].values.reshape(-1,1))\n",
    "X_test['roof_type'] = oe_roof_type.transform(X_test['roof_type'].values.reshape(-1,1))\n",
    "cat_df['roof_type'] = oe_roof_type.transform(cat_df['roof_type'].values.reshape(-1,1))\n",
    "\n",
    "X_train['water_source'] = oe_water_source.fit_transform(X_train['water_source'].values.reshape(-1,1))\n",
    "X_test['water_source'] = oe_water_source.transform(X_test['water_source'].values.reshape(-1,1))\n",
    "cat_df['water_source'] = oe_water_source.transform(cat_df['water_source'].values.reshape(-1,1))\n",
    "\n",
    "deficiency_cols = ['deficiency_a', 'deficiency_b', 'deficiency_c', 'deficiency_d', 'deficiency_e', 'deficiency_f', 'deficiency_h']\n",
    "for i in deficiency_cols:\n",
    "    X_train[i] = oe_deficiencies.fit_transform(X_train[i].values.reshape(-1,1))\n",
    "    X_test[i] = oe_deficiencies.transform(X_test[i].values.reshape(-1,1))\n",
    "    cat_df[i] = oe_deficiencies.transform(cat_df[i].values.reshape(-1,1))\n",
    "\n",
    "X_train['frequented_school'] = oe_frequented_school.fit_transform(X_train['frequented_school'].values.reshape(-1,1))\n",
    "X_test['frequented_school'] = oe_frequented_school.transform(X_test['frequented_school'].values.reshape(-1,1))  \n",
    "cat_df['frequented_school'] = oe_frequented_school.transform(cat_df['frequented_school'].values.reshape(-1,1))\n",
    "\n"
   ]
  },
  {
   "cell_type": "code",
   "execution_count": 30,
   "metadata": {},
   "outputs": [],
   "source": [
    "\n",
    "# null_counts_per_row = X_train_try.isnull().sum(axis=1)\n",
    "\n",
    "# # Filter rows with more than 4 null values\n",
    "# rows_with_more_than_4_nulls = null_counts_per_row[null_counts_per_row > 4]\n",
    "\n",
    "# # Get the row numbers\n",
    "# row_numbers = rows_with_more_than_4_nulls.index\n",
    "\n",
    "# row_numbers"
   ]
  },
  {
   "cell_type": "code",
   "execution_count": 31,
   "metadata": {},
   "outputs": [],
   "source": [
    "# X_train[nume_cols]"
   ]
  },
  {
   "cell_type": "code",
   "execution_count": 32,
   "metadata": {},
   "outputs": [],
   "source": [
    "# #display X_train_try rows that are in row_numbers\n",
    "# X_train_try[nume_cols]"
   ]
  },
  {
   "cell_type": "code",
   "execution_count": 33,
   "metadata": {},
   "outputs": [],
   "source": [
    "# X_train.isnull().mean()*100"
   ]
  },
  {
   "cell_type": "code",
   "execution_count": 34,
   "metadata": {},
   "outputs": [],
   "source": [
    "# ohe_cols"
   ]
  },
  {
   "cell_type": "code",
   "execution_count": 35,
   "metadata": {},
   "outputs": [],
   "source": [
    "X_train_new = X_train[nume_cols+ohe_cols].copy()\n",
    "X_test_new = X_test[nume_cols+ohe_cols].copy()\n",
    "cat_df_new = cat_df[nume_cols+ohe_cols].copy()"
   ]
  },
  {
   "cell_type": "code",
   "execution_count": 36,
   "metadata": {},
   "outputs": [],
   "source": [
    "# X_train_new"
   ]
  },
  {
   "cell_type": "code",
   "execution_count": 37,
   "metadata": {},
   "outputs": [],
   "source": [
    "# # generate value_counts for ohe_cols\n",
    "# for i in ohe_cols:\n",
    "#     print(i)\n",
    "#     print(X_train[i].value_counts())\n",
    "#     print(\"----------------------\")"
   ]
  },
  {
   "cell_type": "code",
   "execution_count": null,
   "metadata": {},
   "outputs": [],
   "source": []
  },
  {
   "cell_type": "code",
   "execution_count": 38,
   "metadata": {},
   "outputs": [],
   "source": [
    "# X_train_new.shape"
   ]
  },
  {
   "cell_type": "code",
   "execution_count": 39,
   "metadata": {},
   "outputs": [],
   "source": [
    "# threshold_district = 20\n",
    "# threshold_relhead = 31\n",
    "# counts_district_train = X_train['district'].value_counts()\n",
    "# counts_district_test = X_test['district'].value_counts()\n",
    "# counts_relhead_train = X_train['relhead'].value_counts()\n",
    "# counts_relhead_test = X_test['relhead'].value_counts()\n",
    "# repl_district_train = counts_district_train[counts_district_train <= threshold_district].index\n",
    "# repl_district_test = counts_district_test[counts_district_test <= threshold_district].index\n",
    "# repl_relhead_train = counts_relhead_train[counts_relhead_train <= threshold_relhead].index\n",
    "# repl_relhead_test = counts_relhead_test[counts_relhead_test <= threshold_relhead].index\n",
    "\n",
    "# X1_train=pd.get_dummies(X_train_new['district'].replace(repl_district_train, 'uncommon_district'))\n",
    "# X1_test=pd.get_dummies(X_test_new['district'].replace(repl_district_test, 'uncommon_district'))\n",
    "# X2_train= pd.get_dummies(X_train_new['relhead'].replace(repl_relhead_train, 'uncommon_relhead'))\n",
    "# X2_test= pd.get_dummies(X_test_new['relhead'].replace(repl_relhead_test, 'uncommon_relhead'))\n",
    "\n"
   ]
  },
  {
   "cell_type": "code",
   "execution_count": 40,
   "metadata": {},
   "outputs": [],
   "source": [
    "# X_test_new"
   ]
  },
  {
   "cell_type": "code",
   "execution_count": 41,
   "metadata": {},
   "outputs": [
    {
     "data": {
      "text/html": [
       "<style>#sk-container-id-1 {color: black;}#sk-container-id-1 pre{padding: 0;}#sk-container-id-1 div.sk-toggleable {background-color: white;}#sk-container-id-1 label.sk-toggleable__label {cursor: pointer;display: block;width: 100%;margin-bottom: 0;padding: 0.3em;box-sizing: border-box;text-align: center;}#sk-container-id-1 label.sk-toggleable__label-arrow:before {content: \"▸\";float: left;margin-right: 0.25em;color: #696969;}#sk-container-id-1 label.sk-toggleable__label-arrow:hover:before {color: black;}#sk-container-id-1 div.sk-estimator:hover label.sk-toggleable__label-arrow:before {color: black;}#sk-container-id-1 div.sk-toggleable__content {max-height: 0;max-width: 0;overflow: hidden;text-align: left;background-color: #f0f8ff;}#sk-container-id-1 div.sk-toggleable__content pre {margin: 0.2em;color: black;border-radius: 0.25em;background-color: #f0f8ff;}#sk-container-id-1 input.sk-toggleable__control:checked~div.sk-toggleable__content {max-height: 200px;max-width: 100%;overflow: auto;}#sk-container-id-1 input.sk-toggleable__control:checked~label.sk-toggleable__label-arrow:before {content: \"▾\";}#sk-container-id-1 div.sk-estimator input.sk-toggleable__control:checked~label.sk-toggleable__label {background-color: #d4ebff;}#sk-container-id-1 div.sk-label input.sk-toggleable__control:checked~label.sk-toggleable__label {background-color: #d4ebff;}#sk-container-id-1 input.sk-hidden--visually {border: 0;clip: rect(1px 1px 1px 1px);clip: rect(1px, 1px, 1px, 1px);height: 1px;margin: -1px;overflow: hidden;padding: 0;position: absolute;width: 1px;}#sk-container-id-1 div.sk-estimator {font-family: monospace;background-color: #f0f8ff;border: 1px dotted black;border-radius: 0.25em;box-sizing: border-box;margin-bottom: 0.5em;}#sk-container-id-1 div.sk-estimator:hover {background-color: #d4ebff;}#sk-container-id-1 div.sk-parallel-item::after {content: \"\";width: 100%;border-bottom: 1px solid gray;flex-grow: 1;}#sk-container-id-1 div.sk-label:hover label.sk-toggleable__label {background-color: #d4ebff;}#sk-container-id-1 div.sk-serial::before {content: \"\";position: absolute;border-left: 1px solid gray;box-sizing: border-box;top: 0;bottom: 0;left: 50%;z-index: 0;}#sk-container-id-1 div.sk-serial {display: flex;flex-direction: column;align-items: center;background-color: white;padding-right: 0.2em;padding-left: 0.2em;position: relative;}#sk-container-id-1 div.sk-item {position: relative;z-index: 1;}#sk-container-id-1 div.sk-parallel {display: flex;align-items: stretch;justify-content: center;background-color: white;position: relative;}#sk-container-id-1 div.sk-item::before, #sk-container-id-1 div.sk-parallel-item::before {content: \"\";position: absolute;border-left: 1px solid gray;box-sizing: border-box;top: 0;bottom: 0;left: 50%;z-index: -1;}#sk-container-id-1 div.sk-parallel-item {display: flex;flex-direction: column;z-index: 1;position: relative;background-color: white;}#sk-container-id-1 div.sk-parallel-item:first-child::after {align-self: flex-end;width: 50%;}#sk-container-id-1 div.sk-parallel-item:last-child::after {align-self: flex-start;width: 50%;}#sk-container-id-1 div.sk-parallel-item:only-child::after {width: 0;}#sk-container-id-1 div.sk-dashed-wrapped {border: 1px dashed gray;margin: 0 0.4em 0.5em 0.4em;box-sizing: border-box;padding-bottom: 0.4em;background-color: white;}#sk-container-id-1 div.sk-label label {font-family: monospace;font-weight: bold;display: inline-block;line-height: 1.2em;}#sk-container-id-1 div.sk-label-container {text-align: center;}#sk-container-id-1 div.sk-container {/* jupyter's `normalize.less` sets `[hidden] { display: none; }` but bootstrap.min.css set `[hidden] { display: none !important; }` so we also need the `!important` here to be able to override the default hidden behavior on the sphinx rendered scikit-learn.org. See: https://github.com/scikit-learn/scikit-learn/issues/21755 */display: inline-block !important;position: relative;}#sk-container-id-1 div.sk-text-repr-fallback {display: none;}</style><div id=\"sk-container-id-1\" class=\"sk-top-container\"><div class=\"sk-text-repr-fallback\"><pre>OneHotEncoder(drop=&#x27;first&#x27;, handle_unknown=&#x27;ignore&#x27;, sparse=False,\n",
       "              sparse_output=False)</pre><b>In a Jupyter environment, please rerun this cell to show the HTML representation or trust the notebook. <br />On GitHub, the HTML representation is unable to render, please try loading this page with nbviewer.org.</b></div><div class=\"sk-container\" hidden><div class=\"sk-item\"><div class=\"sk-estimator sk-toggleable\"><input class=\"sk-toggleable__control sk-hidden--visually\" id=\"sk-estimator-id-1\" type=\"checkbox\" checked><label for=\"sk-estimator-id-1\" class=\"sk-toggleable__label sk-toggleable__label-arrow\">OneHotEncoder</label><div class=\"sk-toggleable__content\"><pre>OneHotEncoder(drop=&#x27;first&#x27;, handle_unknown=&#x27;ignore&#x27;, sparse=False,\n",
       "              sparse_output=False)</pre></div></div></div></div></div>"
      ],
      "text/plain": [
       "OneHotEncoder(drop='first', handle_unknown='ignore', sparse=False,\n",
       "              sparse_output=False)"
      ]
     },
     "execution_count": 41,
     "metadata": {},
     "output_type": "execute_result"
    }
   ],
   "source": [
    "#sklearn one hot encoder\n",
    "from sklearn.preprocessing import OneHotEncoder\n",
    "ohe = OneHotEncoder(handle_unknown='ignore', sparse=False,drop='first')\n",
    "ohe.fit(X_train_new[ohe_cols])"
   ]
  },
  {
   "cell_type": "code",
   "execution_count": 42,
   "metadata": {},
   "outputs": [],
   "source": [
    "X_train_new_ohe_cols = ohe.transform(X_train_new[ohe_cols])\n",
    "X_test_new_ohe_cols = ohe.transform(X_test_new[ohe_cols])\n",
    "cat_df_new_ohe_cols = ohe.transform(cat_df_new[ohe_cols])"
   ]
  },
  {
   "cell_type": "code",
   "execution_count": 43,
   "metadata": {},
   "outputs": [],
   "source": [
    "X_train_new_t=np.hstack((X_train_new,X_train_new_ohe_cols))\n",
    "X_train_new_t = pd.DataFrame(X_train_new_t, columns = X_train_new.columns.tolist()+ohe.get_feature_names_out().tolist())\n",
    "\n",
    "X_test_new_t=np.hstack((X_test_new,X_test_new_ohe_cols))\n",
    "X_test_new_t = pd.DataFrame(X_test_new_t, columns = X_test_new.columns.tolist()+ohe.get_feature_names_out().tolist())\n",
    "\n",
    "cat_df_new_t=np.hstack((cat_df_new,cat_df_new_ohe_cols))\n",
    "cat_df_new_t = pd.DataFrame(cat_df_new_t, columns = cat_df_new.columns.tolist()+ohe.get_feature_names_out().tolist())"
   ]
  },
  {
   "cell_type": "code",
   "execution_count": 44,
   "metadata": {},
   "outputs": [],
   "source": [
    "X_train_new_t.drop(ohe_cols, axis=1, inplace=True)\n",
    "X_test_new_t.drop(ohe_cols, axis=1, inplace=True)\n",
    "cat_df_new_t.drop(ohe_cols, axis=1, inplace=True)"
   ]
  },
  {
   "cell_type": "code",
   "execution_count": 45,
   "metadata": {},
   "outputs": [
    {
     "data": {
      "text/plain": [
       "((3786, 174), (947, 174), (3786,), (947,), (4733, 174))"
      ]
     },
     "execution_count": 45,
     "metadata": {},
     "output_type": "execute_result"
    }
   ],
   "source": [
    "X_train_new_t.shape , X_test_new_t.shape , y_train.shape , y_test.shape, cat_df_new_t.shape"
   ]
  },
  {
   "cell_type": "code",
   "execution_count": 46,
   "metadata": {},
   "outputs": [],
   "source": [
    "#drop frequented_schools,education_level_Attended and grade or year from X_train_new_t and X_test_new_t\n",
    "X_train_new_t.drop(['frequented_school','education_level_attended','grade_or_year'], axis=1, inplace=True)\n",
    "X_test_new_t.drop(['frequented_school','education_level_attended','grade_or_year'], axis=1, inplace=True)\n",
    "\n",
    "cat_df_with_fselagoy = cat_df_new_t.copy()\n",
    "cat_df_new_t.drop(['frequented_school','education_level_attended','grade_or_year'], axis=1, inplace=True)\n",
    "\n"
   ]
  },
  {
   "cell_type": "code",
   "execution_count": 47,
   "metadata": {},
   "outputs": [],
   "source": [
    "#convert cat_df_new_t to csv\n",
    "cat_df_new_t.to_csv('cat_df.csv', index=False)\n",
    "cat_df_with_fselagoy.to_csv('cat_Df_fselagoy.csv', index=False)\n"
   ]
  },
  {
   "cell_type": "code",
   "execution_count": 48,
   "metadata": {},
   "outputs": [],
   "source": [
    "lr = LogisticRegression(random_state=0)"
   ]
  },
  {
   "cell_type": "code",
   "execution_count": 49,
   "metadata": {},
   "outputs": [
    {
     "data": {
      "text/html": [
       "<style>#sk-container-id-2 {color: black;}#sk-container-id-2 pre{padding: 0;}#sk-container-id-2 div.sk-toggleable {background-color: white;}#sk-container-id-2 label.sk-toggleable__label {cursor: pointer;display: block;width: 100%;margin-bottom: 0;padding: 0.3em;box-sizing: border-box;text-align: center;}#sk-container-id-2 label.sk-toggleable__label-arrow:before {content: \"▸\";float: left;margin-right: 0.25em;color: #696969;}#sk-container-id-2 label.sk-toggleable__label-arrow:hover:before {color: black;}#sk-container-id-2 div.sk-estimator:hover label.sk-toggleable__label-arrow:before {color: black;}#sk-container-id-2 div.sk-toggleable__content {max-height: 0;max-width: 0;overflow: hidden;text-align: left;background-color: #f0f8ff;}#sk-container-id-2 div.sk-toggleable__content pre {margin: 0.2em;color: black;border-radius: 0.25em;background-color: #f0f8ff;}#sk-container-id-2 input.sk-toggleable__control:checked~div.sk-toggleable__content {max-height: 200px;max-width: 100%;overflow: auto;}#sk-container-id-2 input.sk-toggleable__control:checked~label.sk-toggleable__label-arrow:before {content: \"▾\";}#sk-container-id-2 div.sk-estimator input.sk-toggleable__control:checked~label.sk-toggleable__label {background-color: #d4ebff;}#sk-container-id-2 div.sk-label input.sk-toggleable__control:checked~label.sk-toggleable__label {background-color: #d4ebff;}#sk-container-id-2 input.sk-hidden--visually {border: 0;clip: rect(1px 1px 1px 1px);clip: rect(1px, 1px, 1px, 1px);height: 1px;margin: -1px;overflow: hidden;padding: 0;position: absolute;width: 1px;}#sk-container-id-2 div.sk-estimator {font-family: monospace;background-color: #f0f8ff;border: 1px dotted black;border-radius: 0.25em;box-sizing: border-box;margin-bottom: 0.5em;}#sk-container-id-2 div.sk-estimator:hover {background-color: #d4ebff;}#sk-container-id-2 div.sk-parallel-item::after {content: \"\";width: 100%;border-bottom: 1px solid gray;flex-grow: 1;}#sk-container-id-2 div.sk-label:hover label.sk-toggleable__label {background-color: #d4ebff;}#sk-container-id-2 div.sk-serial::before {content: \"\";position: absolute;border-left: 1px solid gray;box-sizing: border-box;top: 0;bottom: 0;left: 50%;z-index: 0;}#sk-container-id-2 div.sk-serial {display: flex;flex-direction: column;align-items: center;background-color: white;padding-right: 0.2em;padding-left: 0.2em;position: relative;}#sk-container-id-2 div.sk-item {position: relative;z-index: 1;}#sk-container-id-2 div.sk-parallel {display: flex;align-items: stretch;justify-content: center;background-color: white;position: relative;}#sk-container-id-2 div.sk-item::before, #sk-container-id-2 div.sk-parallel-item::before {content: \"\";position: absolute;border-left: 1px solid gray;box-sizing: border-box;top: 0;bottom: 0;left: 50%;z-index: -1;}#sk-container-id-2 div.sk-parallel-item {display: flex;flex-direction: column;z-index: 1;position: relative;background-color: white;}#sk-container-id-2 div.sk-parallel-item:first-child::after {align-self: flex-end;width: 50%;}#sk-container-id-2 div.sk-parallel-item:last-child::after {align-self: flex-start;width: 50%;}#sk-container-id-2 div.sk-parallel-item:only-child::after {width: 0;}#sk-container-id-2 div.sk-dashed-wrapped {border: 1px dashed gray;margin: 0 0.4em 0.5em 0.4em;box-sizing: border-box;padding-bottom: 0.4em;background-color: white;}#sk-container-id-2 div.sk-label label {font-family: monospace;font-weight: bold;display: inline-block;line-height: 1.2em;}#sk-container-id-2 div.sk-label-container {text-align: center;}#sk-container-id-2 div.sk-container {/* jupyter's `normalize.less` sets `[hidden] { display: none; }` but bootstrap.min.css set `[hidden] { display: none !important; }` so we also need the `!important` here to be able to override the default hidden behavior on the sphinx rendered scikit-learn.org. See: https://github.com/scikit-learn/scikit-learn/issues/21755 */display: inline-block !important;position: relative;}#sk-container-id-2 div.sk-text-repr-fallback {display: none;}</style><div id=\"sk-container-id-2\" class=\"sk-top-container\"><div class=\"sk-text-repr-fallback\"><pre>LogisticRegression(random_state=0)</pre><b>In a Jupyter environment, please rerun this cell to show the HTML representation or trust the notebook. <br />On GitHub, the HTML representation is unable to render, please try loading this page with nbviewer.org.</b></div><div class=\"sk-container\" hidden><div class=\"sk-item\"><div class=\"sk-estimator sk-toggleable\"><input class=\"sk-toggleable__control sk-hidden--visually\" id=\"sk-estimator-id-2\" type=\"checkbox\" checked><label for=\"sk-estimator-id-2\" class=\"sk-toggleable__label sk-toggleable__label-arrow\">LogisticRegression</label><div class=\"sk-toggleable__content\"><pre>LogisticRegression(random_state=0)</pre></div></div></div></div></div>"
      ],
      "text/plain": [
       "LogisticRegression(random_state=0)"
      ]
     },
     "execution_count": 49,
     "metadata": {},
     "output_type": "execute_result"
    }
   ],
   "source": [
    "lr.fit(X_train_new_t, y_train)"
   ]
  },
  {
   "cell_type": "code",
   "execution_count": 50,
   "metadata": {},
   "outputs": [],
   "source": [
    "lr_pred = lr.predict(X_test_new_t)\n"
   ]
  },
  {
   "cell_type": "code",
   "execution_count": 51,
   "metadata": {},
   "outputs": [
    {
     "data": {
      "text/plain": [
       "1    658\n",
       "2    172\n",
       "0    117\n",
       "Name: count, dtype: int64"
      ]
     },
     "execution_count": 51,
     "metadata": {},
     "output_type": "execute_result"
    }
   ],
   "source": [
    "y_test.value_counts()   "
   ]
  },
  {
   "cell_type": "code",
   "execution_count": 52,
   "metadata": {},
   "outputs": [
    {
     "name": "stdout",
     "output_type": "stream",
     "text": [
      "0.9429778247096093\n",
      "              precision    recall  f1-score   support\n",
      "\n",
      "           0       0.91      0.60      0.72       117\n",
      "           1       1.00      1.00      1.00       658\n",
      "           2       0.78      0.96      0.86       172\n",
      "\n",
      "    accuracy                           0.94       947\n",
      "   macro avg       0.90      0.85      0.86       947\n",
      "weighted avg       0.95      0.94      0.94       947\n",
      "\n"
     ]
    }
   ],
   "source": [
    "# generate accuracy scores and classifier report\n",
    "print(accuracy_score(y_test, lr_pred))\n",
    "print(classification_report(y_test, lr_pred))"
   ]
  },
  {
   "cell_type": "code",
   "execution_count": 53,
   "metadata": {},
   "outputs": [
    {
     "name": "stdout",
     "output_type": "stream",
     "text": [
      "0.9345530492898912\n"
     ]
    }
   ],
   "source": [
    "#cross validate\n",
    "from sklearn.model_selection import cross_val_score\n",
    "scores = cross_val_score(lr, X_test_new_t, y_test, cv=5)\n",
    "print(scores.mean())"
   ]
  },
  {
   "cell_type": "code",
   "execution_count": 54,
   "metadata": {},
   "outputs": [
    {
     "data": {
      "text/plain": [
       "deficiency_h\n",
       "0.0    3786\n",
       "Name: count, dtype: int64"
      ]
     },
     "execution_count": 54,
     "metadata": {},
     "output_type": "execute_result"
    }
   ],
   "source": [
    "X_train_new_t['deficiency_h'].value_counts()"
   ]
  },
  {
   "cell_type": "code",
   "execution_count": 55,
   "metadata": {},
   "outputs": [
    {
     "data": {
      "text/plain": [
       "{'read_write': [1.0, 0.0, 2.0, -1.0],\n",
       " 'education_level_attending': [-1.0,\n",
       "  2.0,\n",
       "  3.0,\n",
       "  4.0,\n",
       "  5.0,\n",
       "  6.0,\n",
       "  9.0,\n",
       "  1.0,\n",
       "  8.0,\n",
       "  0.0,\n",
       "  7.0],\n",
       " 'school_problem_a': [-1.0, 0.0, 1.0],\n",
       " 'school_problem_b': [-1.0, 0.0, 1.0],\n",
       " 'school_problem_c': [-1.0, 0.0, 1.0],\n",
       " 'school_problem_d': [-1.0, 0.0, 1.0],\n",
       " 'school_problem_e': [-1.0, 0.0, 1.0],\n",
       " 'school_problem_f': [-1.0, 1.0, 0.0],\n",
       " 'deficiency_a': [1.0, 0.0],\n",
       " 'deficiency_b': [0.0, 1.0],\n",
       " 'deficiency_c': [0.0, 1.0],\n",
       " 'deficiency_d': [0.0, 1.0],\n",
       " 'deficiency_e': [0.0, 1.0],\n",
       " 'deficiency_f': [0.0, 1.0],\n",
       " 'deficiency_h': [0.0],\n",
       " 'water_source': [1.0,\n",
       "  3.0,\n",
       "  7.0,\n",
       "  -1.0,\n",
       "  0.0,\n",
       "  12.0,\n",
       "  6.0,\n",
       "  8.0,\n",
       "  2.0,\n",
       "  4.0,\n",
       "  11.0,\n",
       "  9.0,\n",
       "  10.0],\n",
       " 'sanitation_type': [0.0, -1.0, 1.0, 2.0, 3.0],\n",
       " 'roof_type': [1.0, 2.0, 4.0, 3.0, 0.0, 5.0],\n",
       " 'wall_type': [3.0, 6.0, 1.0, 0.0, 4.0, 5.0, 2.0],\n",
       " 'gender_Male': [1.0, 0.0],\n",
       " 'district_ANCUABE': [0.0, 1.0],\n",
       " 'district_ANGOCHE': [0.0, 1.0],\n",
       " 'district_ANGONIA': [0.0, 1.0],\n",
       " 'district_BALAMA': [0.0, 1.0],\n",
       " 'district_BARUE': [0.0, 1.0],\n",
       " 'district_BILENE': [0.0, 1.0],\n",
       " 'district_BOANE': [0.0, 1.0],\n",
       " 'district_BUZI': [0.0, 1.0],\n",
       " 'district_CAHORA-BASSA': [0.0, 1.0],\n",
       " 'district_CAIA': [0.0, 1.0],\n",
       " 'district_CHANGARA': [0.0, 1.0],\n",
       " 'district_CHEMBA': [0.0, 1.0],\n",
       " 'district_CHIBABAVA': [0.0, 1.0],\n",
       " 'district_CHIBUTO': [0.0, 1.0],\n",
       " 'district_CHIFUNDE': [0.0, 1.0],\n",
       " 'district_CHIGUBO': [0.0, 1.0],\n",
       " 'district_CHINDE': [0.0, 1.0],\n",
       " 'district_CHIURE': [0.0, 1.0],\n",
       " 'district_CHIUTA': [0.0, 1.0],\n",
       " 'district_CHOKWE': [0.0, 1.0],\n",
       " 'district_CIDADE DA BEIRA': [0.0, 1.0],\n",
       " 'district_CIDADE DE CHIMOIO': [0.0, 1.0],\n",
       " 'district_CIDADE DE INHAMBANE': [0.0, 1.0],\n",
       " 'district_CIDADE DE LICHINGA': [0.0, 1.0],\n",
       " 'district_CIDADE DE MATOLA': [0.0, 1.0],\n",
       " 'district_CIDADE DE MAXIXE': [0.0, 1.0],\n",
       " 'district_CIDADE DE NAMPULA': [0.0, 1.0],\n",
       " 'district_CIDADE DE PEMBA': [0.0, 1.0],\n",
       " 'district_CIDADE DE QUELIMANE': [0.0, 1.0],\n",
       " 'district_CIDADE DE TETE': [0.0, 1.0],\n",
       " 'district_CIDADE DE XAI-XAI': [0.0, 1.0],\n",
       " 'district_CIDADE ILHA DE MOCAMBIQUE': [0.0, 1.0],\n",
       " 'district_CUAMBA': [0.0, 1.0],\n",
       " 'district_DISTRITO DE KAMAVOTA': [0.0, 1.0],\n",
       " 'district_DISTRITO DE KAMPFUMU': [0.0, 1.0],\n",
       " 'district_DISTRITO DE KAMUBUKWANA': [0.0, 1.0],\n",
       " 'district_DISTRITO DE KATEMBE': [0.0, 1.0],\n",
       " 'district_DISTRITO DE NHLAMANKULU': [0.0, 1.0],\n",
       " 'district_DISTRITO KAMAXAKENI': [0.0, 1.0],\n",
       " 'district_DONDO': [0.0, 1.0],\n",
       " 'district_FUNHALOURO': [0.0, 1.0],\n",
       " 'district_GILE': [0.0, 1.0],\n",
       " 'district_GONDOLA': [0.0, 1.0],\n",
       " 'district_GORONGOSA': [0.0, 1.0],\n",
       " 'district_GOVURO': [0.0, 1.0],\n",
       " 'district_GUIJA': [0.0, 1.0],\n",
       " 'district_GURO': [0.0, 1.0],\n",
       " 'district_GURUE': [0.0, 1.0],\n",
       " 'district_HOMOINE': [0.0, 1.0],\n",
       " 'district_IBO': [0.0, 1.0],\n",
       " 'district_ILE': [0.0, 1.0],\n",
       " 'district_INHARRIME': [0.0, 1.0],\n",
       " 'district_INHASSORO': [0.0, 1.0],\n",
       " 'district_INHASSUNGE': [0.0, 1.0],\n",
       " 'district_JANGAMO': [0.0, 1.0],\n",
       " 'district_LAGO': [0.0, 1.0],\n",
       " 'district_LICHINGA': [0.0, 1.0],\n",
       " 'district_LUGELA': [0.0, 1.0],\n",
       " 'district_MABALANE': [0.0, 1.0],\n",
       " 'district_MABOTE': [0.0, 1.0],\n",
       " 'district_MACANGA': [0.0, 1.0],\n",
       " 'district_MACHANGA': [0.0, 1.0],\n",
       " 'district_MACHAZE': [0.0, 1.0],\n",
       " 'district_MACOMIA': [0.0, 1.0],\n",
       " 'district_MACOSSA': [0.0, 1.0],\n",
       " 'district_MAGANJA DA COSTA': [0.0, 1.0],\n",
       " 'district_MAGOE': [0.0, 1.0],\n",
       " 'district_MAGUDE': [0.0, 1.0],\n",
       " 'district_MAJUNE': [0.0, 1.0],\n",
       " 'district_MALEMA': [0.0, 1.0],\n",
       " 'district_MANDIMBA': [0.0, 1.0],\n",
       " 'district_MANDLACAZE': [0.0, 1.0],\n",
       " 'district_MANHI�A': [0.0, 1.0],\n",
       " 'district_MANICA': [0.0, 1.0],\n",
       " 'district_MARAVIA': [0.0, 1.0],\n",
       " 'district_MARINGUE': [0.0, 1.0],\n",
       " 'district_MARRACUENE': [0.0, 1.0],\n",
       " 'district_MARROMEU': [0.0, 1.0],\n",
       " 'district_MARRUPA': [0.0, 1.0],\n",
       " 'district_MASSANGENA': [0.0, 1.0],\n",
       " 'district_MASSINGA': [0.0, 1.0],\n",
       " 'district_MATUTUINE': [0.0, 1.0],\n",
       " 'district_MAUA': [0.0, 1.0],\n",
       " 'district_MAVAGO': [0.0, 1.0],\n",
       " 'district_MECANHELAS': [0.0, 1.0],\n",
       " 'district_MECONTA': [0.0, 1.0],\n",
       " 'district_MECUBURI': [0.0, 1.0],\n",
       " 'district_MECUFI': [0.0, 1.0],\n",
       " 'district_MELUCO': [0.0, 1.0],\n",
       " 'district_MEMBA': [0.0, 1.0],\n",
       " 'district_MILANGE': [0.0, 1.0],\n",
       " 'district_MOAMBA': [0.0, 1.0],\n",
       " 'district_MOATIZE': [0.0, 1.0],\n",
       " 'district_MOCIMBOA DA PRAIA': [0.0, 1.0],\n",
       " 'district_MOCUBA': [0.0, 1.0],\n",
       " 'district_MOGINCUAL': [0.0, 1.0],\n",
       " 'district_MOGOVOLAS': [0.0, 1.0],\n",
       " 'district_MOMA': [0.0, 1.0],\n",
       " 'district_MONAPO': [0.0, 1.0],\n",
       " 'district_MONTEPUEZ': [0.0, 1.0],\n",
       " 'district_MOPEIA': [0.0, 1.0],\n",
       " 'district_MORRUMBALA': [0.0, 1.0],\n",
       " 'district_MORRUMBENE': [0.0, 1.0],\n",
       " 'district_MOSSURIL': [0.0, 1.0],\n",
       " 'district_MOSSURIZE': [0.0, 1.0],\n",
       " 'district_MUANZA': [0.0, 1.0],\n",
       " 'district_MUECATE': [0.0, 1.0],\n",
       " 'district_MUEDA': [0.0, 1.0],\n",
       " 'district_MUEMBE': [0.0, 1.0],\n",
       " 'district_MUIDUMBE': [0.0, 1.0],\n",
       " 'district_MURRUPULA': [0.0, 1.0],\n",
       " 'district_MUTARARA': [0.0, 1.0],\n",
       " \"district_N'GAUMA\": [0.0, 1.0],\n",
       " 'district_NACALA-PORTO': [0.0, 1.0],\n",
       " 'district_NACALA-VELHA': [0.0, 1.0],\n",
       " 'district_NACAROA': [0.0, 1.0],\n",
       " 'district_NAMAACHA': [0.0, 1.0],\n",
       " 'district_NAMACURRA': [0.0, 1.0],\n",
       " 'district_NAMAPA-ERATI': [1.0, 0.0],\n",
       " 'district_NAMARROI': [0.0, 1.0],\n",
       " 'district_NAMPULA': [0.0, 1.0],\n",
       " 'district_NAMUNO': [0.0, 1.0],\n",
       " 'district_NANGADE': [0.0, 1.0],\n",
       " 'district_NHAMATANDA': [0.0, 1.0],\n",
       " 'district_NICOADALA': [0.0, 1.0],\n",
       " 'district_NIPEPE': [0.0, 1.0],\n",
       " 'district_PALMA': [0.0, 1.0],\n",
       " 'district_PANDA': [0.0, 1.0],\n",
       " 'district_PEBANE': [0.0, 1.0],\n",
       " 'district_PEMBA - METUGE': [0.0, 1.0],\n",
       " 'district_QUISSANGA': [0.0, 1.0],\n",
       " 'district_RIBAUE': [0.0, 1.0],\n",
       " 'district_SANGA': [0.0, 1.0],\n",
       " 'district_SUSSUNDENGA': [0.0, 1.0],\n",
       " 'district_TAMBARA': [0.0, 1.0],\n",
       " 'district_TSANGANO': [0.0, 1.0],\n",
       " 'district_VILANKULO': [0.0, 1.0],\n",
       " 'district_XAI-XAI': [0.0, 1.0],\n",
       " 'district_ZAVALA': [0.0, 1.0],\n",
       " 'district_ZUMBO': [0.0, 1.0],\n",
       " 'relhead_Brother/sister': [0.0, 1.0],\n",
       " 'relhead_Father/mother': [0.0, 1.0],\n",
       " 'relhead_Father/mother in law': [0.0, 1.0],\n",
       " 'relhead_Grandson/granddaughter': [0.0, 1.0],\n",
       " 'relhead_Head': [0.0, 1.0],\n",
       " 'relhead_No relationship': [0.0, 1.0],\n",
       " 'relhead_Other relative': [0.0, 1.0],\n",
       " 'relhead_Son/daughter': [1.0, 0.0],\n",
       " 'relhead_Son/daughter in law': [0.0, 1.0],\n",
       " 'relhead_Spouse': [0.0, 1.0],\n",
       " 'slept_away_3_Yes': [0.0, 1.0]}"
      ]
     },
     "execution_count": 55,
     "metadata": {},
     "output_type": "execute_result"
    }
   ],
   "source": [
    "# convert X_train_new_t columns to a dictionary\n",
    "\n",
    "X_train_new_t_cols = X_train_new_t.columns.tolist()\n",
    "X_train_new_t_cols_dict = {}\n",
    "for i in X_train_new_t_cols:\n",
    "    X_train_new_t_cols_dict[i] = X_train_new_t[i].unique().tolist()\n",
    "\n",
    "X_train_new_t_cols_dict"
   ]
  },
  {
   "cell_type": "code",
   "execution_count": 56,
   "metadata": {},
   "outputs": [
    {
     "name": "stdout",
     "output_type": "stream",
     "text": [
      "LR\n",
      "0.9429778247096093\n",
      "              precision    recall  f1-score   support\n",
      "\n",
      "           0       0.91      0.60      0.72       117\n",
      "           1       1.00      1.00      1.00       658\n",
      "           2       0.78      0.96      0.86       172\n",
      "\n",
      "    accuracy                           0.94       947\n",
      "   macro avg       0.90      0.85      0.86       947\n",
      "weighted avg       0.95      0.94      0.94       947\n",
      "\n",
      "----------------------\n",
      "RF\n",
      "0.9366420274551215\n",
      "              precision    recall  f1-score   support\n",
      "\n",
      "           0       0.83      0.62      0.71       117\n",
      "           1       1.00      1.00      1.00       658\n",
      "           2       0.78      0.91      0.84       172\n",
      "\n",
      "    accuracy                           0.94       947\n",
      "   macro avg       0.87      0.84      0.85       947\n",
      "weighted avg       0.94      0.94      0.93       947\n",
      "\n",
      "----------------------\n",
      "KNN\n",
      "0.9176346356916578\n",
      "              precision    recall  f1-score   support\n",
      "\n",
      "           0       0.74      0.51      0.61       117\n",
      "           1       1.00      1.00      1.00       658\n",
      "           2       0.73      0.88      0.79       172\n",
      "\n",
      "    accuracy                           0.92       947\n",
      "   macro avg       0.82      0.80      0.80       947\n",
      "weighted avg       0.92      0.92      0.91       947\n",
      "\n",
      "----------------------\n",
      "SVC\n",
      "0.9450897571277719\n",
      "              precision    recall  f1-score   support\n",
      "\n",
      "           0       0.99      0.56      0.72       117\n",
      "           1       1.00      1.00      1.00       658\n",
      "           2       0.77      0.99      0.87       172\n",
      "\n",
      "    accuracy                           0.95       947\n",
      "   macro avg       0.92      0.85      0.86       947\n",
      "weighted avg       0.96      0.95      0.94       947\n",
      "\n",
      "----------------------\n",
      "GB\n",
      "0.9450897571277719\n",
      "              precision    recall  f1-score   support\n",
      "\n",
      "           0       0.95      0.59      0.73       117\n",
      "           1       1.00      1.00      1.00       658\n",
      "           2       0.78      0.98      0.87       172\n",
      "\n",
      "    accuracy                           0.95       947\n",
      "   macro avg       0.91      0.86      0.86       947\n",
      "weighted avg       0.95      0.95      0.94       947\n",
      "\n",
      "----------------------\n",
      "ADA\n",
      "0.9450897571277719\n",
      "              precision    recall  f1-score   support\n",
      "\n",
      "           0       0.92      0.61      0.73       117\n",
      "           1       1.00      1.00      1.00       658\n",
      "           2       0.78      0.97      0.86       172\n",
      "\n",
      "    accuracy                           0.95       947\n",
      "   macro avg       0.90      0.86      0.87       947\n",
      "weighted avg       0.95      0.95      0.94       947\n",
      "\n",
      "----------------------\n",
      "DT\n",
      "0.9081309398099261\n",
      "              precision    recall  f1-score   support\n",
      "\n",
      "           0       0.62      0.65      0.64       117\n",
      "           1       1.00      1.00      1.00       658\n",
      "           2       0.75      0.73      0.74       172\n",
      "\n",
      "    accuracy                           0.91       947\n",
      "   macro avg       0.79      0.79      0.79       947\n",
      "weighted avg       0.91      0.91      0.91       947\n",
      "\n",
      "----------------------\n",
      "BG\n",
      "0.9271383315733897\n",
      "              precision    recall  f1-score   support\n",
      "\n",
      "           0       0.74      0.63      0.68       117\n",
      "           1       1.00      1.00      1.00       658\n",
      "           2       0.77      0.85      0.81       172\n",
      "\n",
      "    accuracy                           0.93       947\n",
      "   macro avg       0.84      0.83      0.83       947\n",
      "weighted avg       0.93      0.93      0.93       947\n",
      "\n",
      "----------------------\n",
      "NB\n",
      "0.8373812038014784\n",
      "              precision    recall  f1-score   support\n",
      "\n",
      "           0       0.42      0.84      0.56       117\n",
      "           1       0.99      1.00      1.00       658\n",
      "           2       0.71      0.22      0.33       172\n",
      "\n",
      "    accuracy                           0.84       947\n",
      "   macro avg       0.71      0.68      0.63       947\n",
      "weighted avg       0.87      0.84      0.82       947\n",
      "\n",
      "----------------------\n"
     ]
    }
   ],
   "source": [
    "#test other models as well\n",
    "from sklearn.ensemble import RandomForestClassifier\n",
    "from sklearn.neighbors import KNeighborsClassifier\n",
    "from sklearn.svm import SVC\n",
    "from sklearn.ensemble import GradientBoostingClassifier\n",
    "from sklearn.ensemble import AdaBoostClassifier\n",
    "from sklearn.tree import DecisionTreeClassifier\n",
    "from sklearn.ensemble import BaggingClassifier\n",
    "from sklearn.naive_bayes import GaussianNB\n",
    "#test each model and print result\n",
    "models = []\n",
    "models.append(('LR', LogisticRegression()))\n",
    "models.append(('RF', RandomForestClassifier()))\n",
    "models.append(('KNN', KNeighborsClassifier()))\n",
    "models.append(('SVC', SVC()))\n",
    "models.append(('GB', GradientBoostingClassifier()))\n",
    "models.append(('ADA', AdaBoostClassifier()))\n",
    "models.append(('DT', DecisionTreeClassifier()))\n",
    "models.append(('BG', BaggingClassifier()))\n",
    "models.append(('NB', GaussianNB()))\n",
    "\n",
    "#in a loop one by one fit and test data\n",
    "for name, model in models:\n",
    "    model.fit(X_train_new_t, y_train)\n",
    "    y_pred = model.predict(X_test_new_t)\n",
    "    print(name)\n",
    "    print(accuracy_score(y_test, y_pred))\n",
    "    print(classification_report(y_test, y_pred))\n",
    "    print(\"----------------------\")\n"
   ]
  },
  {
   "cell_type": "code",
   "execution_count": 57,
   "metadata": {},
   "outputs": [],
   "source": [
    "# #check correlation of X_train_new_t with y_train\n",
    "# X_train_new_t['y_train'] = y_train\n",
    "# X_train_new_t.corr()['y_train'].sort_values(ascending=False)\n",
    "\n",
    "\n",
    "# #create a correlation matrix and display all rows and columns\n",
    "# corr_matrix = X_train_new_t.corr()\n",
    "# pd.set_option('display.max_rows', None)\n",
    "# pd.set_option('display.max_columns', None)\n",
    "# #display correlation with y_train\n",
    "# corr_matrix['y_train'].sort_values(ascending=True)\n"
   ]
  },
  {
   "cell_type": "code",
   "execution_count": 58,
   "metadata": {},
   "outputs": [
    {
     "name": "stdout",
     "output_type": "stream",
     "text": [
      "grade_or_year, education_level_attended and frequented_school are highly correlated\n"
     ]
    }
   ],
   "source": [
    "#print that grade or year, education level attended and frequented school are highly correlated\n",
    "print(\"grade_or_year, education_level_attended and frequented_school are highly correlated\")"
   ]
  },
  {
   "cell_type": "code",
   "execution_count": 59,
   "metadata": {},
   "outputs": [],
   "source": [
    "# apply sequential feature selector\n",
    "# from mlxtend.feature_selection import SequentialFeatureSelector as SFS\n",
    "# sfs = SFS(lr, \n",
    "#           k_features=100, \n",
    "#           forward=False, \n",
    "#           floating=False, \n",
    "#           scoring='accuracy',\n",
    "#           cv=5,n_jobs=-1,\n",
    "#           verbose=2)\n",
    "# model_sfs = sfs.fit(X_train_new_t, y_train)\n"
   ]
  },
  {
   "cell_type": "code",
   "execution_count": 60,
   "metadata": {},
   "outputs": [],
   "source": [
    "# model_sfs.k_feature_names_"
   ]
  },
  {
   "cell_type": "code",
   "execution_count": null,
   "metadata": {},
   "outputs": [],
   "source": [
    "# #get best model score\n",
    "# model_sfs.k_score_\n"
   ]
  },
  {
   "cell_type": "code",
   "execution_count": 63,
   "metadata": {},
   "outputs": [
    {
     "name": "stdout",
     "output_type": "stream",
     "text": [
      "INFO: Shap explainer type - shap.explainers.PermutationExplainer()\n"
     ]
    },
    {
     "ename": "TypeError",
     "evalue": "ufunc 'isfinite' not supported for the input types, and the inputs could not be safely coerced to any supported types according to the casting rule ''safe''",
     "output_type": "error",
     "traceback": [
      "\u001b[1;31m---------------------------------------------------------------------------\u001b[0m",
      "\u001b[1;31mTypeError\u001b[0m                                 Traceback (most recent call last)",
      "Cell \u001b[1;32mIn[63], line 3\u001b[0m\n\u001b[0;32m      1\u001b[0m \u001b[38;5;28;01mfrom\u001b[39;00m \u001b[38;5;21;01mshapash\u001b[39;00m\u001b[38;5;21;01m.\u001b[39;00m\u001b[38;5;21;01mexplainer\u001b[39;00m\u001b[38;5;21;01m.\u001b[39;00m\u001b[38;5;21;01msmart_explainer\u001b[39;00m \u001b[38;5;28;01mimport\u001b[39;00m SmartExplainer\n\u001b[0;32m      2\u001b[0m SE \u001b[38;5;241m=\u001b[39m SmartExplainer(model \u001b[38;5;241m=\u001b[39mlr)\n\u001b[1;32m----> 3\u001b[0m \u001b[43mSE\u001b[49m\u001b[38;5;241;43m.\u001b[39;49m\u001b[43mcompile\u001b[49m\u001b[43m(\u001b[49m\n\u001b[0;32m      4\u001b[0m \u001b[43mx\u001b[49m\u001b[38;5;241;43m=\u001b[39;49m\u001b[43mX_test_new_t\u001b[49m\u001b[43m,\u001b[49m\n\u001b[0;32m      5\u001b[0m \n\u001b[0;32m      6\u001b[0m \u001b[43m)\u001b[49m\n",
      "File \u001b[1;32mc:\\Users\\Sanjay\\AppData\\Local\\Programs\\Python\\Python311\\Lib\\site-packages\\shapash\\explainer\\smart_explainer.py:292\u001b[0m, in \u001b[0;36mSmartExplainer.compile\u001b[1;34m(self, x, contributions, y_pred, y_target, additional_data, additional_features_dict)\u001b[0m\n\u001b[0;32m    289\u001b[0m \u001b[38;5;28mself\u001b[39m\u001b[38;5;241m.\u001b[39my_target \u001b[38;5;241m=\u001b[39m check_y(\u001b[38;5;28mself\u001b[39m\u001b[38;5;241m.\u001b[39mx_init, y_target, y_name\u001b[38;5;241m=\u001b[39m\u001b[38;5;124m\"\u001b[39m\u001b[38;5;124my_target\u001b[39m\u001b[38;5;124m\"\u001b[39m)\n\u001b[0;32m    290\u001b[0m \u001b[38;5;28mself\u001b[39m\u001b[38;5;241m.\u001b[39mprediction_error \u001b[38;5;241m=\u001b[39m predict_error(\u001b[38;5;28mself\u001b[39m\u001b[38;5;241m.\u001b[39my_target, \u001b[38;5;28mself\u001b[39m\u001b[38;5;241m.\u001b[39my_pred, \u001b[38;5;28mself\u001b[39m\u001b[38;5;241m.\u001b[39m_case)\n\u001b[1;32m--> 292\u001b[0m \u001b[38;5;28;43mself\u001b[39;49m\u001b[38;5;241;43m.\u001b[39;49m\u001b[43m_get_contributions_from_backend_or_user\u001b[49m\u001b[43m(\u001b[49m\u001b[43mx\u001b[49m\u001b[43m,\u001b[49m\u001b[43m \u001b[49m\u001b[43mcontributions\u001b[49m\u001b[43m)\u001b[49m\n\u001b[0;32m    293\u001b[0m \u001b[38;5;28mself\u001b[39m\u001b[38;5;241m.\u001b[39mcheck_contributions()\n\u001b[0;32m    295\u001b[0m \u001b[38;5;28mself\u001b[39m\u001b[38;5;241m.\u001b[39mcolumns_dict \u001b[38;5;241m=\u001b[39m {i: col \u001b[38;5;28;01mfor\u001b[39;00m i, col \u001b[38;5;129;01min\u001b[39;00m \u001b[38;5;28menumerate\u001b[39m(\u001b[38;5;28mself\u001b[39m\u001b[38;5;241m.\u001b[39mx_init\u001b[38;5;241m.\u001b[39mcolumns)}\n",
      "File \u001b[1;32mc:\\Users\\Sanjay\\AppData\\Local\\Programs\\Python\\Python311\\Lib\\site-packages\\shapash\\explainer\\smart_explainer.py:317\u001b[0m, in \u001b[0;36mSmartExplainer._get_contributions_from_backend_or_user\u001b[1;34m(self, x, contributions)\u001b[0m\n\u001b[0;32m    312\u001b[0m \u001b[38;5;28;01mdef\u001b[39;00m \u001b[38;5;21m_get_contributions_from_backend_or_user\u001b[39m(\u001b[38;5;28mself\u001b[39m,\n\u001b[0;32m    313\u001b[0m                                             x,\n\u001b[0;32m    314\u001b[0m                                             contributions):\n\u001b[0;32m    315\u001b[0m     \u001b[38;5;66;03m# Computing contributions using backend\u001b[39;00m\n\u001b[0;32m    316\u001b[0m     \u001b[38;5;28;01mif\u001b[39;00m contributions \u001b[38;5;129;01mis\u001b[39;00m \u001b[38;5;28;01mNone\u001b[39;00m:\n\u001b[1;32m--> 317\u001b[0m         \u001b[38;5;28mself\u001b[39m\u001b[38;5;241m.\u001b[39mexplain_data \u001b[38;5;241m=\u001b[39m \u001b[38;5;28;43mself\u001b[39;49m\u001b[38;5;241;43m.\u001b[39;49m\u001b[43mbackend\u001b[49m\u001b[38;5;241;43m.\u001b[39;49m\u001b[43mrun_explainer\u001b[49m\u001b[43m(\u001b[49m\u001b[43mx\u001b[49m\u001b[38;5;241;43m=\u001b[39;49m\u001b[43mx\u001b[49m\u001b[43m)\u001b[49m\n\u001b[0;32m    318\u001b[0m         \u001b[38;5;28mself\u001b[39m\u001b[38;5;241m.\u001b[39mcontributions \u001b[38;5;241m=\u001b[39m \u001b[38;5;28mself\u001b[39m\u001b[38;5;241m.\u001b[39mbackend\u001b[38;5;241m.\u001b[39mget_local_contributions(\n\u001b[0;32m    319\u001b[0m             x\u001b[38;5;241m=\u001b[39mx,\n\u001b[0;32m    320\u001b[0m             explain_data\u001b[38;5;241m=\u001b[39m\u001b[38;5;28mself\u001b[39m\u001b[38;5;241m.\u001b[39mexplain_data)\n\u001b[0;32m    321\u001b[0m     \u001b[38;5;28;01melse\u001b[39;00m:\n",
      "File \u001b[1;32mc:\\Users\\Sanjay\\AppData\\Local\\Programs\\Python\\Python311\\Lib\\site-packages\\shapash\\backend\\shap_backend.py:58\u001b[0m, in \u001b[0;36mShapBackend.run_explainer\u001b[1;34m(self, x)\u001b[0m\n\u001b[0;32m     44\u001b[0m \u001b[38;5;250m\u001b[39m\u001b[38;5;124;03m\"\"\"\u001b[39;00m\n\u001b[0;32m     45\u001b[0m \u001b[38;5;124;03mComputes and returns local contributions using Shap explainer\u001b[39;00m\n\u001b[0;32m     46\u001b[0m \n\u001b[1;32m   (...)\u001b[0m\n\u001b[0;32m     55\u001b[0m \u001b[38;5;124;03m    local contributions\u001b[39;00m\n\u001b[0;32m     56\u001b[0m \u001b[38;5;124;03m\"\"\"\u001b[39;00m\n\u001b[0;32m     57\u001b[0m \u001b[38;5;28mprint\u001b[39m(\u001b[38;5;124m\"\u001b[39m\u001b[38;5;124mINFO: Shap explainer type -\u001b[39m\u001b[38;5;124m\"\u001b[39m, \u001b[38;5;28mself\u001b[39m\u001b[38;5;241m.\u001b[39mexplainer)\n\u001b[1;32m---> 58\u001b[0m contributions \u001b[38;5;241m=\u001b[39m \u001b[38;5;28;43mself\u001b[39;49m\u001b[38;5;241;43m.\u001b[39;49m\u001b[43mexplainer\u001b[49m\u001b[43m(\u001b[49m\u001b[43mx\u001b[49m\u001b[43m,\u001b[49m\u001b[43m \u001b[49m\u001b[38;5;241;43m*\u001b[39;49m\u001b[38;5;241;43m*\u001b[39;49m\u001b[38;5;28;43mself\u001b[39;49m\u001b[38;5;241;43m.\u001b[39;49m\u001b[43mexplainer_compute_args\u001b[49m\u001b[43m)\u001b[49m\n\u001b[0;32m     59\u001b[0m explain_data \u001b[38;5;241m=\u001b[39m \u001b[38;5;28mdict\u001b[39m(contributions\u001b[38;5;241m=\u001b[39mcontributions\u001b[38;5;241m.\u001b[39mvalues)\n\u001b[0;32m     60\u001b[0m \u001b[38;5;28;01mreturn\u001b[39;00m explain_data\n",
      "File \u001b[1;32mc:\\Users\\Sanjay\\AppData\\Local\\Programs\\Python\\Python311\\Lib\\site-packages\\shap\\explainers\\_permutation.py:79\u001b[0m, in \u001b[0;36mPermutationExplainer.__call__\u001b[1;34m(self, max_evals, main_effects, error_bounds, batch_size, outputs, silent, *args)\u001b[0m\n\u001b[0;32m     75\u001b[0m \u001b[38;5;28;01mdef\u001b[39;00m \u001b[38;5;21m__call__\u001b[39m(\u001b[38;5;28mself\u001b[39m, \u001b[38;5;241m*\u001b[39margs, max_evals\u001b[38;5;241m=\u001b[39m\u001b[38;5;241m500\u001b[39m, main_effects\u001b[38;5;241m=\u001b[39m\u001b[38;5;28;01mFalse\u001b[39;00m, error_bounds\u001b[38;5;241m=\u001b[39m\u001b[38;5;28;01mFalse\u001b[39;00m, batch_size\u001b[38;5;241m=\u001b[39m\u001b[38;5;124m\"\u001b[39m\u001b[38;5;124mauto\u001b[39m\u001b[38;5;124m\"\u001b[39m,\n\u001b[0;32m     76\u001b[0m              outputs\u001b[38;5;241m=\u001b[39m\u001b[38;5;28;01mNone\u001b[39;00m, silent\u001b[38;5;241m=\u001b[39m\u001b[38;5;28;01mFalse\u001b[39;00m):\n\u001b[0;32m     77\u001b[0m \u001b[38;5;250m    \u001b[39m\u001b[38;5;124;03m\"\"\" Explain the output of the model on the given arguments.\u001b[39;00m\n\u001b[0;32m     78\u001b[0m \u001b[38;5;124;03m    \"\"\"\u001b[39;00m\n\u001b[1;32m---> 79\u001b[0m     \u001b[38;5;28;01mreturn\u001b[39;00m \u001b[38;5;28;43msuper\u001b[39;49m\u001b[43m(\u001b[49m\u001b[43m)\u001b[49m\u001b[38;5;241;43m.\u001b[39;49m\u001b[38;5;21;43m__call__\u001b[39;49m\u001b[43m(\u001b[49m\n\u001b[0;32m     80\u001b[0m \u001b[43m        \u001b[49m\u001b[38;5;241;43m*\u001b[39;49m\u001b[43margs\u001b[49m\u001b[43m,\u001b[49m\u001b[43m \u001b[49m\u001b[43mmax_evals\u001b[49m\u001b[38;5;241;43m=\u001b[39;49m\u001b[43mmax_evals\u001b[49m\u001b[43m,\u001b[49m\u001b[43m \u001b[49m\u001b[43mmain_effects\u001b[49m\u001b[38;5;241;43m=\u001b[39;49m\u001b[43mmain_effects\u001b[49m\u001b[43m,\u001b[49m\u001b[43m \u001b[49m\u001b[43merror_bounds\u001b[49m\u001b[38;5;241;43m=\u001b[39;49m\u001b[43merror_bounds\u001b[49m\u001b[43m,\u001b[49m\u001b[43m \u001b[49m\u001b[43mbatch_size\u001b[49m\u001b[38;5;241;43m=\u001b[39;49m\u001b[43mbatch_size\u001b[49m\u001b[43m,\u001b[49m\n\u001b[0;32m     81\u001b[0m \u001b[43m        \u001b[49m\u001b[43moutputs\u001b[49m\u001b[38;5;241;43m=\u001b[39;49m\u001b[43moutputs\u001b[49m\u001b[43m,\u001b[49m\u001b[43m \u001b[49m\u001b[43msilent\u001b[49m\u001b[38;5;241;43m=\u001b[39;49m\u001b[43msilent\u001b[49m\n\u001b[0;32m     82\u001b[0m \u001b[43m    \u001b[49m\u001b[43m)\u001b[49m\n",
      "File \u001b[1;32mc:\\Users\\Sanjay\\AppData\\Local\\Programs\\Python\\Python311\\Lib\\site-packages\\shap\\explainers\\_explainer.py:267\u001b[0m, in \u001b[0;36mExplainer.__call__\u001b[1;34m(self, max_evals, main_effects, error_bounds, batch_size, outputs, silent, *args, **kwargs)\u001b[0m\n\u001b[0;32m    265\u001b[0m     feature_names \u001b[38;5;241m=\u001b[39m [[] \u001b[38;5;28;01mfor\u001b[39;00m _ \u001b[38;5;129;01min\u001b[39;00m \u001b[38;5;28mrange\u001b[39m(\u001b[38;5;28mlen\u001b[39m(args))]\n\u001b[0;32m    266\u001b[0m \u001b[38;5;28;01mfor\u001b[39;00m row_args \u001b[38;5;129;01min\u001b[39;00m show_progress(\u001b[38;5;28mzip\u001b[39m(\u001b[38;5;241m*\u001b[39margs), num_rows, \u001b[38;5;28mself\u001b[39m\u001b[38;5;241m.\u001b[39m\u001b[38;5;18m__class__\u001b[39m\u001b[38;5;241m.\u001b[39m\u001b[38;5;18m__name__\u001b[39m\u001b[38;5;241m+\u001b[39m\u001b[38;5;124m\"\u001b[39m\u001b[38;5;124m explainer\u001b[39m\u001b[38;5;124m\"\u001b[39m, silent):\n\u001b[1;32m--> 267\u001b[0m     row_result \u001b[38;5;241m=\u001b[39m \u001b[38;5;28;43mself\u001b[39;49m\u001b[38;5;241;43m.\u001b[39;49m\u001b[43mexplain_row\u001b[49m\u001b[43m(\u001b[49m\n\u001b[0;32m    268\u001b[0m \u001b[43m        \u001b[49m\u001b[38;5;241;43m*\u001b[39;49m\u001b[43mrow_args\u001b[49m\u001b[43m,\u001b[49m\u001b[43m \u001b[49m\u001b[43mmax_evals\u001b[49m\u001b[38;5;241;43m=\u001b[39;49m\u001b[43mmax_evals\u001b[49m\u001b[43m,\u001b[49m\u001b[43m \u001b[49m\u001b[43mmain_effects\u001b[49m\u001b[38;5;241;43m=\u001b[39;49m\u001b[43mmain_effects\u001b[49m\u001b[43m,\u001b[49m\u001b[43m \u001b[49m\u001b[43merror_bounds\u001b[49m\u001b[38;5;241;43m=\u001b[39;49m\u001b[43merror_bounds\u001b[49m\u001b[43m,\u001b[49m\n\u001b[0;32m    269\u001b[0m \u001b[43m        \u001b[49m\u001b[43mbatch_size\u001b[49m\u001b[38;5;241;43m=\u001b[39;49m\u001b[43mbatch_size\u001b[49m\u001b[43m,\u001b[49m\u001b[43m \u001b[49m\u001b[43moutputs\u001b[49m\u001b[38;5;241;43m=\u001b[39;49m\u001b[43moutputs\u001b[49m\u001b[43m,\u001b[49m\u001b[43m \u001b[49m\u001b[43msilent\u001b[49m\u001b[38;5;241;43m=\u001b[39;49m\u001b[43msilent\u001b[49m\u001b[43m,\u001b[49m\u001b[43m \u001b[49m\u001b[38;5;241;43m*\u001b[39;49m\u001b[38;5;241;43m*\u001b[39;49m\u001b[43mkwargs\u001b[49m\n\u001b[0;32m    270\u001b[0m \u001b[43m    \u001b[49m\u001b[43m)\u001b[49m\n\u001b[0;32m    271\u001b[0m     values\u001b[38;5;241m.\u001b[39mappend(row_result\u001b[38;5;241m.\u001b[39mget(\u001b[38;5;124m\"\u001b[39m\u001b[38;5;124mvalues\u001b[39m\u001b[38;5;124m\"\u001b[39m, \u001b[38;5;28;01mNone\u001b[39;00m))\n\u001b[0;32m    272\u001b[0m     output_indices\u001b[38;5;241m.\u001b[39mappend(row_result\u001b[38;5;241m.\u001b[39mget(\u001b[38;5;124m\"\u001b[39m\u001b[38;5;124moutput_indices\u001b[39m\u001b[38;5;124m\"\u001b[39m, \u001b[38;5;28;01mNone\u001b[39;00m))\n",
      "File \u001b[1;32mc:\\Users\\Sanjay\\AppData\\Local\\Programs\\Python\\Python311\\Lib\\site-packages\\shap\\explainers\\_permutation.py:89\u001b[0m, in \u001b[0;36mPermutationExplainer.explain_row\u001b[1;34m(self, max_evals, main_effects, error_bounds, batch_size, outputs, silent, *row_args)\u001b[0m\n\u001b[0;32m     85\u001b[0m \u001b[38;5;250m\u001b[39m\u001b[38;5;124;03m\"\"\" Explains a single row and returns the tuple (row_values, row_expected_values, row_mask_shapes).\u001b[39;00m\n\u001b[0;32m     86\u001b[0m \u001b[38;5;124;03m\"\"\"\u001b[39;00m\n\u001b[0;32m     88\u001b[0m \u001b[38;5;66;03m# build a masked version of the model for the current input sample\u001b[39;00m\n\u001b[1;32m---> 89\u001b[0m fm \u001b[38;5;241m=\u001b[39m \u001b[43mMaskedModel\u001b[49m\u001b[43m(\u001b[49m\u001b[38;5;28;43mself\u001b[39;49m\u001b[38;5;241;43m.\u001b[39;49m\u001b[43mmodel\u001b[49m\u001b[43m,\u001b[49m\u001b[43m \u001b[49m\u001b[38;5;28;43mself\u001b[39;49m\u001b[38;5;241;43m.\u001b[39;49m\u001b[43mmasker\u001b[49m\u001b[43m,\u001b[49m\u001b[43m \u001b[49m\u001b[38;5;28;43mself\u001b[39;49m\u001b[38;5;241;43m.\u001b[39;49m\u001b[43mlink\u001b[49m\u001b[43m,\u001b[49m\u001b[43m \u001b[49m\u001b[38;5;28;43mself\u001b[39;49m\u001b[38;5;241;43m.\u001b[39;49m\u001b[43mlinearize_link\u001b[49m\u001b[43m,\u001b[49m\u001b[43m \u001b[49m\u001b[38;5;241;43m*\u001b[39;49m\u001b[43mrow_args\u001b[49m\u001b[43m)\u001b[49m\n\u001b[0;32m     91\u001b[0m \u001b[38;5;66;03m# by default we run 10 permutations forward and backward\u001b[39;00m\n\u001b[0;32m     92\u001b[0m \u001b[38;5;28;01mif\u001b[39;00m max_evals \u001b[38;5;241m==\u001b[39m \u001b[38;5;124m\"\u001b[39m\u001b[38;5;124mauto\u001b[39m\u001b[38;5;124m\"\u001b[39m:\n",
      "File \u001b[1;32mc:\\Users\\Sanjay\\AppData\\Local\\Programs\\Python\\Python311\\Lib\\site-packages\\shap\\utils\\_masked_model.py:30\u001b[0m, in \u001b[0;36mMaskedModel.__init__\u001b[1;34m(self, model, masker, link, linearize_link, *args)\u001b[0m\n\u001b[0;32m     28\u001b[0m \u001b[38;5;66;03m# if the masker supports it, save what positions vary from the background\u001b[39;00m\n\u001b[0;32m     29\u001b[0m \u001b[38;5;28;01mif\u001b[39;00m \u001b[38;5;28mcallable\u001b[39m(\u001b[38;5;28mgetattr\u001b[39m(\u001b[38;5;28mself\u001b[39m\u001b[38;5;241m.\u001b[39mmasker, \u001b[38;5;124m\"\u001b[39m\u001b[38;5;124minvariants\u001b[39m\u001b[38;5;124m\"\u001b[39m, \u001b[38;5;28;01mNone\u001b[39;00m)):\n\u001b[1;32m---> 30\u001b[0m     \u001b[38;5;28mself\u001b[39m\u001b[38;5;241m.\u001b[39m_variants \u001b[38;5;241m=\u001b[39m \u001b[38;5;241m~\u001b[39m\u001b[38;5;28;43mself\u001b[39;49m\u001b[38;5;241;43m.\u001b[39;49m\u001b[43mmasker\u001b[49m\u001b[38;5;241;43m.\u001b[39;49m\u001b[43minvariants\u001b[49m\u001b[43m(\u001b[49m\u001b[38;5;241;43m*\u001b[39;49m\u001b[43margs\u001b[49m\u001b[43m)\u001b[49m\n\u001b[0;32m     31\u001b[0m     \u001b[38;5;28mself\u001b[39m\u001b[38;5;241m.\u001b[39m_variants_column_sums \u001b[38;5;241m=\u001b[39m \u001b[38;5;28mself\u001b[39m\u001b[38;5;241m.\u001b[39m_variants\u001b[38;5;241m.\u001b[39msum(\u001b[38;5;241m0\u001b[39m)\n\u001b[0;32m     32\u001b[0m     \u001b[38;5;28mself\u001b[39m\u001b[38;5;241m.\u001b[39m_variants_row_inds \u001b[38;5;241m=\u001b[39m [\n\u001b[0;32m     33\u001b[0m         \u001b[38;5;28mself\u001b[39m\u001b[38;5;241m.\u001b[39m_variants[:,i] \u001b[38;5;28;01mfor\u001b[39;00m i \u001b[38;5;129;01min\u001b[39;00m \u001b[38;5;28mrange\u001b[39m(\u001b[38;5;28mself\u001b[39m\u001b[38;5;241m.\u001b[39m_variants\u001b[38;5;241m.\u001b[39mshape[\u001b[38;5;241m1\u001b[39m])\n\u001b[0;32m     34\u001b[0m     ]\n",
      "File \u001b[1;32mc:\\Users\\Sanjay\\AppData\\Local\\Programs\\Python\\Python311\\Lib\\site-packages\\shap\\maskers\\_tabular.py:152\u001b[0m, in \u001b[0;36mTabular.invariants\u001b[1;34m(self, x)\u001b[0m\n\u001b[0;32m    146\u001b[0m \u001b[38;5;28;01mif\u001b[39;00m x\u001b[38;5;241m.\u001b[39mshape \u001b[38;5;241m!=\u001b[39m \u001b[38;5;28mself\u001b[39m\u001b[38;5;241m.\u001b[39mdata\u001b[38;5;241m.\u001b[39mshape[\u001b[38;5;241m1\u001b[39m:]:\n\u001b[0;32m    147\u001b[0m     \u001b[38;5;28;01mraise\u001b[39;00m DimensionError(\n\u001b[0;32m    148\u001b[0m         \u001b[38;5;124m\"\u001b[39m\u001b[38;5;124mThe passed data does not match the background shape expected by the masker! The data of shape \u001b[39m\u001b[38;5;124m\"\u001b[39m \u001b[38;5;241m+\u001b[39m \\\n\u001b[0;32m    149\u001b[0m         \u001b[38;5;28mstr\u001b[39m(x\u001b[38;5;241m.\u001b[39mshape) \u001b[38;5;241m+\u001b[39m \u001b[38;5;124m\"\u001b[39m\u001b[38;5;124m was passed while the masker expected data of shape \u001b[39m\u001b[38;5;124m\"\u001b[39m \u001b[38;5;241m+\u001b[39m \u001b[38;5;28mstr\u001b[39m(\u001b[38;5;28mself\u001b[39m\u001b[38;5;241m.\u001b[39mdata\u001b[38;5;241m.\u001b[39mshape[\u001b[38;5;241m1\u001b[39m:]) \u001b[38;5;241m+\u001b[39m \u001b[38;5;124m\"\u001b[39m\u001b[38;5;124m.\u001b[39m\u001b[38;5;124m\"\u001b[39m\n\u001b[0;32m    150\u001b[0m     )\n\u001b[1;32m--> 152\u001b[0m \u001b[38;5;28;01mreturn\u001b[39;00m \u001b[43mnp\u001b[49m\u001b[38;5;241;43m.\u001b[39;49m\u001b[43misclose\u001b[49m\u001b[43m(\u001b[49m\u001b[43mx\u001b[49m\u001b[43m,\u001b[49m\u001b[43m \u001b[49m\u001b[38;5;28;43mself\u001b[39;49m\u001b[38;5;241;43m.\u001b[39;49m\u001b[43mdata\u001b[49m\u001b[43m)\u001b[49m\n",
      "File \u001b[1;32mc:\\Users\\Sanjay\\AppData\\Local\\Programs\\Python\\Python311\\Lib\\site-packages\\numpy\\core\\numeric.py:2348\u001b[0m, in \u001b[0;36misclose\u001b[1;34m(a, b, rtol, atol, equal_nan)\u001b[0m\n\u001b[0;32m   2345\u001b[0m     dt \u001b[38;5;241m=\u001b[39m multiarray\u001b[38;5;241m.\u001b[39mresult_type(y, \u001b[38;5;241m1.\u001b[39m)\n\u001b[0;32m   2346\u001b[0m     y \u001b[38;5;241m=\u001b[39m asanyarray(y, dtype\u001b[38;5;241m=\u001b[39mdt)\n\u001b[1;32m-> 2348\u001b[0m xfin \u001b[38;5;241m=\u001b[39m \u001b[43misfinite\u001b[49m\u001b[43m(\u001b[49m\u001b[43mx\u001b[49m\u001b[43m)\u001b[49m\n\u001b[0;32m   2349\u001b[0m yfin \u001b[38;5;241m=\u001b[39m isfinite(y)\n\u001b[0;32m   2350\u001b[0m \u001b[38;5;28;01mif\u001b[39;00m \u001b[38;5;28mall\u001b[39m(xfin) \u001b[38;5;129;01mand\u001b[39;00m \u001b[38;5;28mall\u001b[39m(yfin):\n",
      "\u001b[1;31mTypeError\u001b[0m: ufunc 'isfinite' not supported for the input types, and the inputs could not be safely coerced to any supported types according to the casting rule ''safe''"
     ]
    }
   ],
   "source": [
    "from shapash.explainer.smart_explainer import SmartExplainer\n",
    "SE = SmartExplainer(model =lr)\n",
    "SE.compile(\n",
    "x=X_test_new_t,\n",
    "\n",
    ")"
   ]
  }
 ],
 "metadata": {
  "kernelspec": {
   "display_name": "Python 3",
   "language": "python",
   "name": "python3"
  },
  "language_info": {
   "codemirror_mode": {
    "name": "ipython",
    "version": 3
   },
   "file_extension": ".py",
   "mimetype": "text/x-python",
   "name": "python",
   "nbconvert_exporter": "python",
   "pygments_lexer": "ipython3",
   "version": "3.11.7"
  }
 },
 "nbformat": 4,
 "nbformat_minor": 2
}
